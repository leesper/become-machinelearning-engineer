{
 "cells": [
  {
   "cell_type": "markdown",
   "metadata": {},
   "source": [
    "# 猫狗大战毕业项目"
   ]
  },
  {
   "cell_type": "markdown",
   "metadata": {},
   "source": [
    "## 探索性可视化"
   ]
  },
  {
   "cell_type": "code",
   "execution_count": 1,
   "metadata": {
    "collapsed": true
   },
   "outputs": [],
   "source": [
    "from os import listdir\n",
    "from os.path import isfile, join\n",
    "import numpy as np\n",
    "import pandas as pd\n",
    "import matplotlib.pyplot as plt\n",
    "from collections import defaultdict\n",
    "\n",
    "%matplotlib inline"
   ]
  },
  {
   "cell_type": "code",
   "execution_count": 2,
   "metadata": {},
   "outputs": [
    {
     "data": {
      "text/plain": [
       "<matplotlib.axes._subplots.AxesSubplot at 0x7f362075b518>"
      ]
     },
     "execution_count": 2,
     "metadata": {},
     "output_type": "execute_result"
    },
    {
     "data": {
      "image/png": "[encoded data removed]",
      "text/plain": [
       "<matplotlib.figure.Figure at 0x7f3651664c50>"
      ]
     },
     "metadata": {},
     "output_type": "display_data"
    }
   ],
   "source": [
    "img_files = [f for f in listdir('./train') if isfile(join('./train', f))]\n",
    "img_data = defaultdict(list)\n",
    "for img_file in img_files:\n",
    "    img_data[img_file[:3]].append(img_file)\n",
    "\n",
    "img_data = pd.DataFrame(img_data)\n",
    "img_data = pd.Series([img_data['cat'].count(), img_data['dog'].count()], index=['cat', 'dog'])\n",
    "img_data.plot(kind='bar')"
   ]
  },
  {
   "cell_type": "markdown",
   "metadata": {},
   "source": [
    "训练集中猫和狗的图片各占一半，分别为12500张。"
   ]
  },
  {
   "cell_type": "markdown",
   "metadata": {},
   "source": [
    "## 数据预处理\n",
    "\n",
    "通过研究[清单](https://gist.github.com/aaronpolhamus/964a4411c0906315deb9f4a3723aac57)可以知道ImageNet的1000种分类中狗和猫对应的标号，可以根据这个信息快速构建自己的猫狗检测器，下面先从ResNet模型入手，以1000张照片为样本，看看top-5下有哪些图片被识别为“既不是猫也不是狗”。"
   ]
  },
  {
   "cell_type": "code",
   "execution_count": 3,
   "metadata": {},
   "outputs": [
    {
     "name": "stderr",
     "output_type": "stream",
     "text": [
      "Using TensorFlow backend.\n"
     ]
    }
   ],
   "source": [
    "from keras.applications.resnet50 import ResNet50, preprocess_input, decode_predictions\n",
    "from keras.preprocessing import image"
   ]
  },
  {
   "cell_type": "code",
   "execution_count": 6,
   "metadata": {
    "collapsed": true
   },
   "outputs": [],
   "source": [
    "dogs = [\n",
    "    'n02085620','n02085782','n02085936','n02086079', \n",
    "    'n02086240','n02086646','n02086910','n02087046',\n",
    "    'n02087394','n02088094','n02088238','n02088364',\n",
    "    'n02088466','n02088632','n02089078','n02089867',\n",
    "    'n02089973','n02090379','n02090622','n02090721',\n",
    "    'n02091032','n02091134','n02091244','n02091467',\n",
    "    'n02091635','n02091831','n02092002','n02092339',\n",
    "    'n02093256','n02093428','n02093647','n02093754',\n",
    "    'n02093859','n02093991','n02094114','n02094258',\n",
    "    'n02094433','n02095314','n02095570','n02095889',\n",
    "    'n02096051','n02096177','n02096294','n02096437',\n",
    "    'n02096585','n02097047','n02097130','n02097209',\n",
    "    'n02097298','n02097474','n02097658','n02098105',\n",
    "    'n02098286','n02098413','n02099267','n02099429',\n",
    "    'n02099601','n02099712','n02099849','n02100236',\n",
    "    'n02100583','n02100735','n02100877','n02101006',\n",
    "    'n02101388','n02101556','n02102040','n02102177',\n",
    "    'n02102318','n02102480','n02102973','n02104029',\n",
    "    'n02104365','n02105056','n02105162','n02105251',\n",
    "    'n02105412','n02105505','n02105641','n02105855',\n",
    "    'n02106030','n02106166','n02106382','n02106550',\n",
    "    'n02106662','n02107142','n02107312','n02107574',\n",
    "    'n02107683','n02107908','n02108000','n02108089',\n",
    "    'n02108422','n02108551','n02108915','n02109047',\n",
    "    'n02109525','n02109961','n02110063','n02110185',\n",
    "    'n02110341','n02110627','n02110806','n02110958',\n",
    "    'n02111129','n02111277','n02111500','n02111889',\n",
    "    'n02112018','n02112137','n02112350','n02112706',\n",
    "    'n02113023','n02113186','n02113624','n02113712',\n",
    "    'n02113799','n02113978']\n",
    "\n",
    "cats = [\n",
    "    'n02123045','n02123159','n02123394','n02123597',\n",
    "    'n02124075','n02125311','n02127052',\n",
    "]"
   ]
  },
  {
   "cell_type": "code",
   "execution_count": 9,
   "metadata": {},
   "outputs": [
    {
     "name": "stdout",
     "output_type": "stream",
     "text": [
      "abnormals detected by ResNet: ['dog.5113.jpg', 'dog.6461.jpg', 'dog.11753.jpg', 'cat.6812.jpg', 'cat.5659.jpg', 'dog.11396.jpg', 'cat.11414.jpg', 'cat.5939.jpg', 'dog.3045.jpg', 'dog.3314.jpg']\n"
     ]
    }
   ],
   "source": [
    "resnet_detector = ResNet50(weights='imagenet')\n",
    "resnet_abnormals = []\n",
    "for img_file in img_files[:10]:\n",
    "    img = image.load_img('./train/'+img_file, target_size=(224, 224))\n",
    "    x = image.img_to_array(img)\n",
    "    x = np.expand_dims(x, axis=0)\n",
    "    x = preprocess_input(x)\n",
    "\n",
    "    preds = resnet_detector.predict(x)\n",
    "    preds = decode_predictions(preds, top=5)\n",
    "    for pred in preds:\n",
    "        if pred[0] not in dogs and pred[0] not in cats:\n",
    "            resnet_abnormals.append(img_file)\n",
    "            \n",
    "print('abnormals detected by ResNet:', resnet_abnormals)"
   ]
  }
 ],
 "metadata": {
  "kernelspec": {
   "display_name": "Python 3",
   "language": "python",
   "name": "python3"
  },
  "language_info": {
   "codemirror_mode": {
    "name": "ipython",
    "version": 3
   },
   "file_extension": ".py",
   "mimetype": "text/x-python",
   "name": "python",
   "nbconvert_exporter": "python",
   "pygments_lexer": "ipython3",
   "version": "3.6.1"
  }
 },
 "nbformat": 4,
 "nbformat_minor": 2
}
